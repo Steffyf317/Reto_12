{
 "cells": [
  {
   "cell_type": "code",
   "execution_count": 9,
   "metadata": {},
   "outputs": [
    {
     "name": "stdout",
     "output_type": "stream",
     "text": [
      "El número de vocales y consonantes encontradas en el archivo son respectivamente (1597835, 2612121)\n"
     ]
    }
   ],
   "source": [
    "def contar_vocales_y_consonantes(texto:str):\n",
    "  vocales = \"aeiouAEIOU\"\n",
    "  consonantes = \"bcdfghjklmnpqrstvwxyzBCDFGHJKLMNPQRSTVWXYZ\"\n",
    "  \n",
    "  numero_vocales = 0\n",
    "  numero_consonantes = 0\n",
    "\n",
    "  for chr in texto:\n",
    "    if chr in vocales:\n",
    "      numero_vocales +=1\n",
    "    elif chr in consonantes:\n",
    "      numero_consonantes +=1\n",
    "\n",
    "  return(numero_vocales,numero_consonantes) \n",
    "   \n",
    "\n",
    "if __name__ == '__main__':\n",
    "  file = open('archivotexto.txt')\n",
    "  texto = file.read()\n",
    "  vocales_y_consonantes_contadas = contar_vocales_y_consonantes(texto)\n",
    "  print(\"El número de vocales y consonantes encontradas en el archivo son respectivamente \" +str(vocales_y_consonantes_contadas))"
   ]
  }
 ],
 "metadata": {
  "kernelspec": {
   "display_name": "Python 3",
   "language": "python",
   "name": "python3"
  },
  "language_info": {
   "codemirror_mode": {
    "name": "ipython",
    "version": 3
   },
   "file_extension": ".py",
   "mimetype": "text/x-python",
   "name": "python",
   "nbconvert_exporter": "python",
   "pygments_lexer": "ipython3",
   "version": "3.10.11"
  }
 },
 "nbformat": 4,
 "nbformat_minor": 2
}
