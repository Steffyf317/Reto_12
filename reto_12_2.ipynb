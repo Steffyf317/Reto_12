{
 "cells": [
  {
   "cell_type": "code",
   "execution_count": 9,
   "metadata": {},
   "outputs": [
    {
     "name": "stdout",
     "output_type": "stream",
     "text": [
      "El número de vocales y consonantes encontradas en el archivo son respectivamente (1597835, 2612121)\n"
     ]
    }
   ],
   "source": [
    "def contar_vocales_y_consonantes(texto:str):\n",
    "  vocales = \"aeiouAEIOU\"\n",
    "  consonantes = \"bcdfghjklmnpqrstvwxyzBCDFGHJKLMNPQRSTVWXYZ\" #se hacen las cadenas con minusculas y mayusculas\n",
    "  \n",
    "  numero_vocales = 0 #se inician los contadores\n",
    "  numero_consonantes = 0\n",
    "\n",
    "  for chr in texto: # para cada caracter dentro del texto\n",
    "    if chr in vocales: #si el caracter esta en las cadenas anteriormente especificadas, hacer:\n",
    "      numero_vocales +=1\n",
    "    elif chr in consonantes:\n",
    "      numero_consonantes +=1\n",
    "\n",
    "  return(numero_vocales,numero_consonantes) \n",
    "   \n",
    "\n",
    "if __name__ == '__main__':\n",
    "  file = open('archivotexto.txt') #abrir el archivo .txt\n",
    "  texto = file.read() #leer el archivo de texto\n",
    "  vocales_y_consonantes_contadas = contar_vocales_y_consonantes(texto) #llamar a la funcion \n",
    "  print(\"El número de vocales y consonantes encontradas en el archivo son respectivamente \" +str(vocales_y_consonantes_contadas))"
   ]
  },
  {
   "cell_type": "code",
   "execution_count": 4,
   "metadata": {},
   "outputs": [
    {
     "name": "stdout",
     "output_type": "stream",
     "text": [
      "['edu', 'org', 'sakaiproject', 'from', 'by', 'collab', 'x', 'received', 'iupui', 'umich', 'src', 'id', 'ac', 'uk', 'source', 'with', 'uhi', 'nakamura', 'uits', 'content', 'java', 'branches', 'tool', 'dec', 'sak', 'nov', 'for', 'impl', 'mail', 'esmtp', 'paploo', 'dspam', 'sakai', 'message', 'text', 'type', 'utf', 'mr', 'plain', 'itd', 'localhost', 'charset', 'webapp', 'gmt', 'trunk', 'rwiki', 'thu', 'to', 'app', 'tue']\n"
     ]
    }
   ],
   "source": [
    "# Función que extrae las palabras del texto\n",
    "def separar_palabras(texto):\n",
    "  palabras = []\n",
    "  palabra = \"\"\n",
    "  # Recorre cada caracter del texto\n",
    "  for chr in texto:\n",
    "    # Cuando haya un caracter que no se una letra y se haya formado una palabra se agrega para luego formar la siguiente\n",
    "    if not(chr.isalpha()) and len(palabra) > 0:\n",
    "      palabras.append(palabra)\n",
    "      palabra = \"\"\n",
    "    # Se forma la palabra si es una letra\n",
    "    if chr.isalpha():\n",
    "      palabra += chr\n",
    "  return palabras\n",
    "\n",
    "# La función devuelve los n primeros elementos del arreglo\n",
    "def tomar_elementos(arreglo, n):\n",
    "  elementos = []\n",
    "  for i in range(n):\n",
    "    elementos.append(arreglo[i])\n",
    "  return elementos\n",
    "\n",
    "def listado_cincuenta_repetidas(texto):\n",
    "  # Diccionario en donde se agregan las palabras repetidas\n",
    "  repetidas = {}\n",
    "  # Se pasa el texto a lowercase para evitar que hayan diferencias por las mayúsculas\n",
    "  texto_min = texto.lower()\n",
    "  # Extraer la palabras del texto\n",
    "  palabras = separar_palabras(texto_min)\n",
    "  for palabra_actual in palabras:\n",
    "    # Si la palabra actual de la iteración no está en el diccionario, se inicializa su contador en 1. Si ya esta, se va aumentando el contador\n",
    "    if palabra_actual in repetidas:\n",
    "      repetidas[palabra_actual] += 1\n",
    "    else:\n",
    "      repetidas[palabra_actual] = 1\n",
    "  listado_palabras = list(dict(sorted(repetidas.items(), key=lambda item: item[1], reverse=True)).keys()) # Ordena los elementos del diccionario en orden descendente y se toman las keys, que son la palabras repetidas, para convertirlos en una lista\n",
    "  return tomar_elementos(listado_palabras, 50) # Devuelve las 50 palabras más repetidas\n",
    "\n",
    "\n",
    "if __name__ == \"__main__\":\n",
    "  file = open(\"archivotexto.txt\")\n",
    "  texto = file.read()\n",
    "  repetidas = listado_cincuenta_repetidas(texto)\n",
    "  print(repetidas)"
   ]
  }
 ],
 "metadata": {
  "kernelspec": {
   "display_name": "Python 3",
   "language": "python",
   "name": "python3"
  },
  "language_info": {
   "codemirror_mode": {
    "name": "ipython",
    "version": 3
   },
   "file_extension": ".py",
   "mimetype": "text/x-python",
   "name": "python",
   "nbconvert_exporter": "python",
   "pygments_lexer": "ipython3",
   "version": "3.10.11"
  }
 },
 "nbformat": 4,
 "nbformat_minor": 2
}
